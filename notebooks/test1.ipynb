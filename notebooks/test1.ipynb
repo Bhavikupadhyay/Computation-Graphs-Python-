{
 "cells": [
  {
   "cell_type": "code",
   "execution_count": 1,
   "metadata": {},
   "outputs": [],
   "source": [
    "import pandas as pd\n",
    "import numpy as np\n",
    "import matplotlib.pyplot as plt"
   ]
  },
  {
   "cell_type": "code",
   "execution_count": 2,
   "metadata": {},
   "outputs": [
    {
     "data": {
      "text/html": [
       "<div>\n",
       "<style scoped>\n",
       "    .dataframe tbody tr th:only-of-type {\n",
       "        vertical-align: middle;\n",
       "    }\n",
       "\n",
       "    .dataframe tbody tr th {\n",
       "        vertical-align: top;\n",
       "    }\n",
       "\n",
       "    .dataframe thead th {\n",
       "        text-align: right;\n",
       "    }\n",
       "</style>\n",
       "<table border=\"1\" class=\"dataframe\">\n",
       "  <thead>\n",
       "    <tr style=\"text-align: right;\">\n",
       "      <th></th>\n",
       "      <th>label</th>\n",
       "      <th>1x1</th>\n",
       "      <th>1x2</th>\n",
       "      <th>1x3</th>\n",
       "      <th>1x4</th>\n",
       "      <th>1x5</th>\n",
       "      <th>1x6</th>\n",
       "      <th>1x7</th>\n",
       "      <th>1x8</th>\n",
       "      <th>1x9</th>\n",
       "      <th>...</th>\n",
       "      <th>28x19</th>\n",
       "      <th>28x20</th>\n",
       "      <th>28x21</th>\n",
       "      <th>28x22</th>\n",
       "      <th>28x23</th>\n",
       "      <th>28x24</th>\n",
       "      <th>28x25</th>\n",
       "      <th>28x26</th>\n",
       "      <th>28x27</th>\n",
       "      <th>28x28</th>\n",
       "    </tr>\n",
       "  </thead>\n",
       "  <tbody>\n",
       "    <tr>\n",
       "      <th>count</th>\n",
       "      <td>60000.000000</td>\n",
       "      <td>60000.0</td>\n",
       "      <td>60000.0</td>\n",
       "      <td>60000.0</td>\n",
       "      <td>60000.0</td>\n",
       "      <td>60000.0</td>\n",
       "      <td>60000.0</td>\n",
       "      <td>60000.0</td>\n",
       "      <td>60000.0</td>\n",
       "      <td>60000.0</td>\n",
       "      <td>...</td>\n",
       "      <td>60000.000000</td>\n",
       "      <td>60000.000000</td>\n",
       "      <td>60000.000000</td>\n",
       "      <td>60000.000000</td>\n",
       "      <td>60000.000000</td>\n",
       "      <td>60000.0000</td>\n",
       "      <td>60000.0</td>\n",
       "      <td>60000.0</td>\n",
       "      <td>60000.0</td>\n",
       "      <td>60000.0</td>\n",
       "    </tr>\n",
       "    <tr>\n",
       "      <th>mean</th>\n",
       "      <td>4.453933</td>\n",
       "      <td>0.0</td>\n",
       "      <td>0.0</td>\n",
       "      <td>0.0</td>\n",
       "      <td>0.0</td>\n",
       "      <td>0.0</td>\n",
       "      <td>0.0</td>\n",
       "      <td>0.0</td>\n",
       "      <td>0.0</td>\n",
       "      <td>0.0</td>\n",
       "      <td>...</td>\n",
       "      <td>0.200433</td>\n",
       "      <td>0.088867</td>\n",
       "      <td>0.045633</td>\n",
       "      <td>0.019283</td>\n",
       "      <td>0.015117</td>\n",
       "      <td>0.0020</td>\n",
       "      <td>0.0</td>\n",
       "      <td>0.0</td>\n",
       "      <td>0.0</td>\n",
       "      <td>0.0</td>\n",
       "    </tr>\n",
       "    <tr>\n",
       "      <th>std</th>\n",
       "      <td>2.889270</td>\n",
       "      <td>0.0</td>\n",
       "      <td>0.0</td>\n",
       "      <td>0.0</td>\n",
       "      <td>0.0</td>\n",
       "      <td>0.0</td>\n",
       "      <td>0.0</td>\n",
       "      <td>0.0</td>\n",
       "      <td>0.0</td>\n",
       "      <td>0.0</td>\n",
       "      <td>...</td>\n",
       "      <td>6.042472</td>\n",
       "      <td>3.956189</td>\n",
       "      <td>2.839845</td>\n",
       "      <td>1.686770</td>\n",
       "      <td>1.678283</td>\n",
       "      <td>0.3466</td>\n",
       "      <td>0.0</td>\n",
       "      <td>0.0</td>\n",
       "      <td>0.0</td>\n",
       "      <td>0.0</td>\n",
       "    </tr>\n",
       "    <tr>\n",
       "      <th>min</th>\n",
       "      <td>0.000000</td>\n",
       "      <td>0.0</td>\n",
       "      <td>0.0</td>\n",
       "      <td>0.0</td>\n",
       "      <td>0.0</td>\n",
       "      <td>0.0</td>\n",
       "      <td>0.0</td>\n",
       "      <td>0.0</td>\n",
       "      <td>0.0</td>\n",
       "      <td>0.0</td>\n",
       "      <td>...</td>\n",
       "      <td>0.000000</td>\n",
       "      <td>0.000000</td>\n",
       "      <td>0.000000</td>\n",
       "      <td>0.000000</td>\n",
       "      <td>0.000000</td>\n",
       "      <td>0.0000</td>\n",
       "      <td>0.0</td>\n",
       "      <td>0.0</td>\n",
       "      <td>0.0</td>\n",
       "      <td>0.0</td>\n",
       "    </tr>\n",
       "    <tr>\n",
       "      <th>25%</th>\n",
       "      <td>2.000000</td>\n",
       "      <td>0.0</td>\n",
       "      <td>0.0</td>\n",
       "      <td>0.0</td>\n",
       "      <td>0.0</td>\n",
       "      <td>0.0</td>\n",
       "      <td>0.0</td>\n",
       "      <td>0.0</td>\n",
       "      <td>0.0</td>\n",
       "      <td>0.0</td>\n",
       "      <td>...</td>\n",
       "      <td>0.000000</td>\n",
       "      <td>0.000000</td>\n",
       "      <td>0.000000</td>\n",
       "      <td>0.000000</td>\n",
       "      <td>0.000000</td>\n",
       "      <td>0.0000</td>\n",
       "      <td>0.0</td>\n",
       "      <td>0.0</td>\n",
       "      <td>0.0</td>\n",
       "      <td>0.0</td>\n",
       "    </tr>\n",
       "    <tr>\n",
       "      <th>50%</th>\n",
       "      <td>4.000000</td>\n",
       "      <td>0.0</td>\n",
       "      <td>0.0</td>\n",
       "      <td>0.0</td>\n",
       "      <td>0.0</td>\n",
       "      <td>0.0</td>\n",
       "      <td>0.0</td>\n",
       "      <td>0.0</td>\n",
       "      <td>0.0</td>\n",
       "      <td>0.0</td>\n",
       "      <td>...</td>\n",
       "      <td>0.000000</td>\n",
       "      <td>0.000000</td>\n",
       "      <td>0.000000</td>\n",
       "      <td>0.000000</td>\n",
       "      <td>0.000000</td>\n",
       "      <td>0.0000</td>\n",
       "      <td>0.0</td>\n",
       "      <td>0.0</td>\n",
       "      <td>0.0</td>\n",
       "      <td>0.0</td>\n",
       "    </tr>\n",
       "    <tr>\n",
       "      <th>75%</th>\n",
       "      <td>7.000000</td>\n",
       "      <td>0.0</td>\n",
       "      <td>0.0</td>\n",
       "      <td>0.0</td>\n",
       "      <td>0.0</td>\n",
       "      <td>0.0</td>\n",
       "      <td>0.0</td>\n",
       "      <td>0.0</td>\n",
       "      <td>0.0</td>\n",
       "      <td>0.0</td>\n",
       "      <td>...</td>\n",
       "      <td>0.000000</td>\n",
       "      <td>0.000000</td>\n",
       "      <td>0.000000</td>\n",
       "      <td>0.000000</td>\n",
       "      <td>0.000000</td>\n",
       "      <td>0.0000</td>\n",
       "      <td>0.0</td>\n",
       "      <td>0.0</td>\n",
       "      <td>0.0</td>\n",
       "      <td>0.0</td>\n",
       "    </tr>\n",
       "    <tr>\n",
       "      <th>max</th>\n",
       "      <td>9.000000</td>\n",
       "      <td>0.0</td>\n",
       "      <td>0.0</td>\n",
       "      <td>0.0</td>\n",
       "      <td>0.0</td>\n",
       "      <td>0.0</td>\n",
       "      <td>0.0</td>\n",
       "      <td>0.0</td>\n",
       "      <td>0.0</td>\n",
       "      <td>0.0</td>\n",
       "      <td>...</td>\n",
       "      <td>254.000000</td>\n",
       "      <td>254.000000</td>\n",
       "      <td>253.000000</td>\n",
       "      <td>253.000000</td>\n",
       "      <td>254.000000</td>\n",
       "      <td>62.0000</td>\n",
       "      <td>0.0</td>\n",
       "      <td>0.0</td>\n",
       "      <td>0.0</td>\n",
       "      <td>0.0</td>\n",
       "    </tr>\n",
       "  </tbody>\n",
       "</table>\n",
       "<p>8 rows × 785 columns</p>\n",
       "</div>"
      ],
      "text/plain": [
       "              label      1x1      1x2      1x3      1x4      1x5      1x6  \\\n",
       "count  60000.000000  60000.0  60000.0  60000.0  60000.0  60000.0  60000.0   \n",
       "mean       4.453933      0.0      0.0      0.0      0.0      0.0      0.0   \n",
       "std        2.889270      0.0      0.0      0.0      0.0      0.0      0.0   \n",
       "min        0.000000      0.0      0.0      0.0      0.0      0.0      0.0   \n",
       "25%        2.000000      0.0      0.0      0.0      0.0      0.0      0.0   \n",
       "50%        4.000000      0.0      0.0      0.0      0.0      0.0      0.0   \n",
       "75%        7.000000      0.0      0.0      0.0      0.0      0.0      0.0   \n",
       "max        9.000000      0.0      0.0      0.0      0.0      0.0      0.0   \n",
       "\n",
       "           1x7      1x8      1x9  ...         28x19         28x20  \\\n",
       "count  60000.0  60000.0  60000.0  ...  60000.000000  60000.000000   \n",
       "mean       0.0      0.0      0.0  ...      0.200433      0.088867   \n",
       "std        0.0      0.0      0.0  ...      6.042472      3.956189   \n",
       "min        0.0      0.0      0.0  ...      0.000000      0.000000   \n",
       "25%        0.0      0.0      0.0  ...      0.000000      0.000000   \n",
       "50%        0.0      0.0      0.0  ...      0.000000      0.000000   \n",
       "75%        0.0      0.0      0.0  ...      0.000000      0.000000   \n",
       "max        0.0      0.0      0.0  ...    254.000000    254.000000   \n",
       "\n",
       "              28x21         28x22         28x23       28x24    28x25    28x26  \\\n",
       "count  60000.000000  60000.000000  60000.000000  60000.0000  60000.0  60000.0   \n",
       "mean       0.045633      0.019283      0.015117      0.0020      0.0      0.0   \n",
       "std        2.839845      1.686770      1.678283      0.3466      0.0      0.0   \n",
       "min        0.000000      0.000000      0.000000      0.0000      0.0      0.0   \n",
       "25%        0.000000      0.000000      0.000000      0.0000      0.0      0.0   \n",
       "50%        0.000000      0.000000      0.000000      0.0000      0.0      0.0   \n",
       "75%        0.000000      0.000000      0.000000      0.0000      0.0      0.0   \n",
       "max      253.000000    253.000000    254.000000     62.0000      0.0      0.0   \n",
       "\n",
       "         28x27    28x28  \n",
       "count  60000.0  60000.0  \n",
       "mean       0.0      0.0  \n",
       "std        0.0      0.0  \n",
       "min        0.0      0.0  \n",
       "25%        0.0      0.0  \n",
       "50%        0.0      0.0  \n",
       "75%        0.0      0.0  \n",
       "max        0.0      0.0  \n",
       "\n",
       "[8 rows x 785 columns]"
      ]
     },
     "execution_count": 2,
     "metadata": {},
     "output_type": "execute_result"
    }
   ],
   "source": [
    "mnist_train = pd.read_csv(\"../data/mnist_train.csv\")\n",
    "mnist_test = pd.read_csv(\"../data/mnist_test.csv\")\n",
    "\n",
    "mnist_train.describe()"
   ]
  },
  {
   "cell_type": "code",
   "execution_count": 3,
   "metadata": {},
   "outputs": [
    {
     "data": {
      "text/html": [
       "<div>\n",
       "<style scoped>\n",
       "    .dataframe tbody tr th:only-of-type {\n",
       "        vertical-align: middle;\n",
       "    }\n",
       "\n",
       "    .dataframe tbody tr th {\n",
       "        vertical-align: top;\n",
       "    }\n",
       "\n",
       "    .dataframe thead th {\n",
       "        text-align: right;\n",
       "    }\n",
       "</style>\n",
       "<table border=\"1\" class=\"dataframe\">\n",
       "  <thead>\n",
       "    <tr style=\"text-align: right;\">\n",
       "      <th></th>\n",
       "      <th>label</th>\n",
       "      <th>1x1</th>\n",
       "      <th>1x2</th>\n",
       "      <th>1x3</th>\n",
       "      <th>1x4</th>\n",
       "      <th>1x5</th>\n",
       "      <th>1x6</th>\n",
       "      <th>1x7</th>\n",
       "      <th>1x8</th>\n",
       "      <th>1x9</th>\n",
       "      <th>...</th>\n",
       "      <th>28x19</th>\n",
       "      <th>28x20</th>\n",
       "      <th>28x21</th>\n",
       "      <th>28x22</th>\n",
       "      <th>28x23</th>\n",
       "      <th>28x24</th>\n",
       "      <th>28x25</th>\n",
       "      <th>28x26</th>\n",
       "      <th>28x27</th>\n",
       "      <th>28x28</th>\n",
       "    </tr>\n",
       "  </thead>\n",
       "  <tbody>\n",
       "    <tr>\n",
       "      <th>count</th>\n",
       "      <td>10000.000000</td>\n",
       "      <td>10000.0</td>\n",
       "      <td>10000.0</td>\n",
       "      <td>10000.0</td>\n",
       "      <td>10000.0</td>\n",
       "      <td>10000.0</td>\n",
       "      <td>10000.0</td>\n",
       "      <td>10000.0</td>\n",
       "      <td>10000.0</td>\n",
       "      <td>10000.0</td>\n",
       "      <td>...</td>\n",
       "      <td>10000.000000</td>\n",
       "      <td>10000.000000</td>\n",
       "      <td>10000.000000</td>\n",
       "      <td>10000.0000</td>\n",
       "      <td>10000.0</td>\n",
       "      <td>10000.0</td>\n",
       "      <td>10000.0</td>\n",
       "      <td>10000.0</td>\n",
       "      <td>10000.0</td>\n",
       "      <td>10000.0</td>\n",
       "    </tr>\n",
       "    <tr>\n",
       "      <th>mean</th>\n",
       "      <td>4.443400</td>\n",
       "      <td>0.0</td>\n",
       "      <td>0.0</td>\n",
       "      <td>0.0</td>\n",
       "      <td>0.0</td>\n",
       "      <td>0.0</td>\n",
       "      <td>0.0</td>\n",
       "      <td>0.0</td>\n",
       "      <td>0.0</td>\n",
       "      <td>0.0</td>\n",
       "      <td>...</td>\n",
       "      <td>0.179300</td>\n",
       "      <td>0.163600</td>\n",
       "      <td>0.052600</td>\n",
       "      <td>0.0006</td>\n",
       "      <td>0.0</td>\n",
       "      <td>0.0</td>\n",
       "      <td>0.0</td>\n",
       "      <td>0.0</td>\n",
       "      <td>0.0</td>\n",
       "      <td>0.0</td>\n",
       "    </tr>\n",
       "    <tr>\n",
       "      <th>std</th>\n",
       "      <td>2.895865</td>\n",
       "      <td>0.0</td>\n",
       "      <td>0.0</td>\n",
       "      <td>0.0</td>\n",
       "      <td>0.0</td>\n",
       "      <td>0.0</td>\n",
       "      <td>0.0</td>\n",
       "      <td>0.0</td>\n",
       "      <td>0.0</td>\n",
       "      <td>0.0</td>\n",
       "      <td>...</td>\n",
       "      <td>5.674149</td>\n",
       "      <td>5.736072</td>\n",
       "      <td>2.420004</td>\n",
       "      <td>0.0600</td>\n",
       "      <td>0.0</td>\n",
       "      <td>0.0</td>\n",
       "      <td>0.0</td>\n",
       "      <td>0.0</td>\n",
       "      <td>0.0</td>\n",
       "      <td>0.0</td>\n",
       "    </tr>\n",
       "    <tr>\n",
       "      <th>min</th>\n",
       "      <td>0.000000</td>\n",
       "      <td>0.0</td>\n",
       "      <td>0.0</td>\n",
       "      <td>0.0</td>\n",
       "      <td>0.0</td>\n",
       "      <td>0.0</td>\n",
       "      <td>0.0</td>\n",
       "      <td>0.0</td>\n",
       "      <td>0.0</td>\n",
       "      <td>0.0</td>\n",
       "      <td>...</td>\n",
       "      <td>0.000000</td>\n",
       "      <td>0.000000</td>\n",
       "      <td>0.000000</td>\n",
       "      <td>0.0000</td>\n",
       "      <td>0.0</td>\n",
       "      <td>0.0</td>\n",
       "      <td>0.0</td>\n",
       "      <td>0.0</td>\n",
       "      <td>0.0</td>\n",
       "      <td>0.0</td>\n",
       "    </tr>\n",
       "    <tr>\n",
       "      <th>25%</th>\n",
       "      <td>2.000000</td>\n",
       "      <td>0.0</td>\n",
       "      <td>0.0</td>\n",
       "      <td>0.0</td>\n",
       "      <td>0.0</td>\n",
       "      <td>0.0</td>\n",
       "      <td>0.0</td>\n",
       "      <td>0.0</td>\n",
       "      <td>0.0</td>\n",
       "      <td>0.0</td>\n",
       "      <td>...</td>\n",
       "      <td>0.000000</td>\n",
       "      <td>0.000000</td>\n",
       "      <td>0.000000</td>\n",
       "      <td>0.0000</td>\n",
       "      <td>0.0</td>\n",
       "      <td>0.0</td>\n",
       "      <td>0.0</td>\n",
       "      <td>0.0</td>\n",
       "      <td>0.0</td>\n",
       "      <td>0.0</td>\n",
       "    </tr>\n",
       "    <tr>\n",
       "      <th>50%</th>\n",
       "      <td>4.000000</td>\n",
       "      <td>0.0</td>\n",
       "      <td>0.0</td>\n",
       "      <td>0.0</td>\n",
       "      <td>0.0</td>\n",
       "      <td>0.0</td>\n",
       "      <td>0.0</td>\n",
       "      <td>0.0</td>\n",
       "      <td>0.0</td>\n",
       "      <td>0.0</td>\n",
       "      <td>...</td>\n",
       "      <td>0.000000</td>\n",
       "      <td>0.000000</td>\n",
       "      <td>0.000000</td>\n",
       "      <td>0.0000</td>\n",
       "      <td>0.0</td>\n",
       "      <td>0.0</td>\n",
       "      <td>0.0</td>\n",
       "      <td>0.0</td>\n",
       "      <td>0.0</td>\n",
       "      <td>0.0</td>\n",
       "    </tr>\n",
       "    <tr>\n",
       "      <th>75%</th>\n",
       "      <td>7.000000</td>\n",
       "      <td>0.0</td>\n",
       "      <td>0.0</td>\n",
       "      <td>0.0</td>\n",
       "      <td>0.0</td>\n",
       "      <td>0.0</td>\n",
       "      <td>0.0</td>\n",
       "      <td>0.0</td>\n",
       "      <td>0.0</td>\n",
       "      <td>0.0</td>\n",
       "      <td>...</td>\n",
       "      <td>0.000000</td>\n",
       "      <td>0.000000</td>\n",
       "      <td>0.000000</td>\n",
       "      <td>0.0000</td>\n",
       "      <td>0.0</td>\n",
       "      <td>0.0</td>\n",
       "      <td>0.0</td>\n",
       "      <td>0.0</td>\n",
       "      <td>0.0</td>\n",
       "      <td>0.0</td>\n",
       "    </tr>\n",
       "    <tr>\n",
       "      <th>max</th>\n",
       "      <td>9.000000</td>\n",
       "      <td>0.0</td>\n",
       "      <td>0.0</td>\n",
       "      <td>0.0</td>\n",
       "      <td>0.0</td>\n",
       "      <td>0.0</td>\n",
       "      <td>0.0</td>\n",
       "      <td>0.0</td>\n",
       "      <td>0.0</td>\n",
       "      <td>0.0</td>\n",
       "      <td>...</td>\n",
       "      <td>253.000000</td>\n",
       "      <td>253.000000</td>\n",
       "      <td>156.000000</td>\n",
       "      <td>6.0000</td>\n",
       "      <td>0.0</td>\n",
       "      <td>0.0</td>\n",
       "      <td>0.0</td>\n",
       "      <td>0.0</td>\n",
       "      <td>0.0</td>\n",
       "      <td>0.0</td>\n",
       "    </tr>\n",
       "  </tbody>\n",
       "</table>\n",
       "<p>8 rows × 785 columns</p>\n",
       "</div>"
      ],
      "text/plain": [
       "              label      1x1      1x2      1x3      1x4      1x5      1x6  \\\n",
       "count  10000.000000  10000.0  10000.0  10000.0  10000.0  10000.0  10000.0   \n",
       "mean       4.443400      0.0      0.0      0.0      0.0      0.0      0.0   \n",
       "std        2.895865      0.0      0.0      0.0      0.0      0.0      0.0   \n",
       "min        0.000000      0.0      0.0      0.0      0.0      0.0      0.0   \n",
       "25%        2.000000      0.0      0.0      0.0      0.0      0.0      0.0   \n",
       "50%        4.000000      0.0      0.0      0.0      0.0      0.0      0.0   \n",
       "75%        7.000000      0.0      0.0      0.0      0.0      0.0      0.0   \n",
       "max        9.000000      0.0      0.0      0.0      0.0      0.0      0.0   \n",
       "\n",
       "           1x7      1x8      1x9  ...         28x19         28x20  \\\n",
       "count  10000.0  10000.0  10000.0  ...  10000.000000  10000.000000   \n",
       "mean       0.0      0.0      0.0  ...      0.179300      0.163600   \n",
       "std        0.0      0.0      0.0  ...      5.674149      5.736072   \n",
       "min        0.0      0.0      0.0  ...      0.000000      0.000000   \n",
       "25%        0.0      0.0      0.0  ...      0.000000      0.000000   \n",
       "50%        0.0      0.0      0.0  ...      0.000000      0.000000   \n",
       "75%        0.0      0.0      0.0  ...      0.000000      0.000000   \n",
       "max        0.0      0.0      0.0  ...    253.000000    253.000000   \n",
       "\n",
       "              28x21       28x22    28x23    28x24    28x25    28x26    28x27  \\\n",
       "count  10000.000000  10000.0000  10000.0  10000.0  10000.0  10000.0  10000.0   \n",
       "mean       0.052600      0.0006      0.0      0.0      0.0      0.0      0.0   \n",
       "std        2.420004      0.0600      0.0      0.0      0.0      0.0      0.0   \n",
       "min        0.000000      0.0000      0.0      0.0      0.0      0.0      0.0   \n",
       "25%        0.000000      0.0000      0.0      0.0      0.0      0.0      0.0   \n",
       "50%        0.000000      0.0000      0.0      0.0      0.0      0.0      0.0   \n",
       "75%        0.000000      0.0000      0.0      0.0      0.0      0.0      0.0   \n",
       "max      156.000000      6.0000      0.0      0.0      0.0      0.0      0.0   \n",
       "\n",
       "         28x28  \n",
       "count  10000.0  \n",
       "mean       0.0  \n",
       "std        0.0  \n",
       "min        0.0  \n",
       "25%        0.0  \n",
       "50%        0.0  \n",
       "75%        0.0  \n",
       "max        0.0  \n",
       "\n",
       "[8 rows x 785 columns]"
      ]
     },
     "execution_count": 3,
     "metadata": {},
     "output_type": "execute_result"
    }
   ],
   "source": [
    "mnist_test.describe()"
   ]
  },
  {
   "cell_type": "code",
   "execution_count": 4,
   "metadata": {},
   "outputs": [
    {
     "name": "stderr",
     "output_type": "stream",
     "text": [
      "C:\\Users\\bhavi\\AppData\\Local\\Temp\\ipykernel_2088\\2908171682.py:3: FutureWarning: Series.__getitem__ treating keys as positions is deprecated. In a future version, integer keys will always be treated as labels (consistent with DataFrame behavior). To access a value by position, use `ser.iloc[pos]`\n",
      "  label = row[0]\n"
     ]
    },
    {
     "name": "stdout",
     "output_type": "stream",
     "text": [
      "Label: 2\n"
     ]
    },
    {
     "data": {
      "image/png": "[encoded data removed]",
      "text/plain": [
       "<Figure size 640x480 with 1 Axes>"
      ]
     },
     "metadata": {},
     "output_type": "display_data"
    }
   ],
   "source": [
    "demo_index = 5\n",
    "row = mnist_train.iloc[demo_index]\n",
    "label = row[0]\n",
    "print(f'Label: {label}')\n",
    "\n",
    "image = row[1:].values.reshape(28, 28)\n",
    "plt.imshow(image, cmap='gray')\n",
    "plt.title(f'Digit: {label}')\n",
    "plt.show()"
   ]
  },
  {
   "cell_type": "code",
   "execution_count": 5,
   "metadata": {},
   "outputs": [
    {
     "name": "stdout",
     "output_type": "stream",
     "text": [
      "(60000, 784) (60000,) (10000, 784) (10000,)\n"
     ]
    }
   ],
   "source": [
    "# separate the data into features and labels\n",
    "X_train = mnist_train.iloc[:, 1:].values\n",
    "y_train = mnist_train.iloc[:, 0].values\n",
    "\n",
    "X_test = mnist_test.iloc[:, 1:].values\n",
    "y_test = mnist_test.iloc[:, 0].values\n",
    "\n",
    "print(X_train.shape, y_train.shape, X_test.shape, y_test.shape)"
   ]
  },
  {
   "cell_type": "code",
   "execution_count": 6,
   "metadata": {},
   "outputs": [],
   "source": [
    "# normalizing the data\n",
    "X_train = X_train / 255.0\n",
    "X_test = X_test / 255.0"
   ]
  },
  {
   "cell_type": "code",
   "execution_count": 7,
   "metadata": {},
   "outputs": [
    {
     "name": "stdout",
     "output_type": "stream",
     "text": [
      "(60000, 10) (10000, 10)\n"
     ]
    }
   ],
   "source": [
    "# making the labels one-hot encoded\n",
    "y_train_one_hot = np.eye(10)[y_train]\n",
    "y_test_one_hot = np.eye(10)[y_test]\n",
    "\n",
    "print(y_train_one_hot.shape, y_test_one_hot.shape)"
   ]
  },
  {
   "cell_type": "code",
   "execution_count": 8,
   "metadata": {},
   "outputs": [
    {
     "data": {
      "image/png": "[encoded data removed]",
      "text/plain": [
       "<Figure size 640x480 with 1 Axes>"
      ]
     },
     "metadata": {},
     "output_type": "display_data"
    }
   ],
   "source": [
    "# check if the one-hot encoding is correct, by loading the same image\n",
    "demo_image = X_train[demo_index].reshape(28, 28)\n",
    "demo_label = np.argmax(y_train_one_hot[demo_index])\n",
    "\n",
    "plt.imshow(demo_image, cmap='gray')\n",
    "plt.title(f'Digit: {demo_label}')\n",
    "plt.show()"
   ]
  },
  {
   "cell_type": "code",
   "execution_count": 9,
   "metadata": {},
   "outputs": [],
   "source": [
    "# adding src to the path\n",
    "import sys\n",
    "import os\n",
    "sys.path.append(os.path.abspath('../src'))"
   ]
  },
  {
   "cell_type": "code",
   "execution_count": 10,
   "metadata": {},
   "outputs": [],
   "source": [
    "# load Node class from node.py\n",
    "from node import Node\n",
    "\n",
    "demo_data = X_train[demo_index].reshape(1, 784)\n",
    "demo_label = y_train_one_hot[demo_index].reshape(1, 10)\n",
    "\n",
    "demo_input = Node(data=demo_data, trainable=False)\n",
    "demo_output = Node(data=demo_label, trainable=False)"
   ]
  },
  {
   "cell_type": "code",
   "execution_count": 11,
   "metadata": {},
   "outputs": [
    {
     "name": "stdout",
     "output_type": "stream",
     "text": [
      "(1, 784) (1, 10)\n"
     ]
    }
   ],
   "source": [
    "print(demo_input.data.shape, demo_output.data.shape)"
   ]
  },
  {
   "cell_type": "code",
   "execution_count": 25,
   "metadata": {},
   "outputs": [
    {
     "name": "stdout",
     "output_type": "stream",
     "text": [
      "Shape of a2: (1, 10)\n",
      "Shape of demo_output: (1, 10)\n",
      "Prediction: 1\n",
      "Actual: 2\n",
      "Loss shape = ()\n",
      "Loss: 3.4538776394910684\n"
     ]
    }
   ],
   "source": [
    "from layers import DenseLayer\n",
    "from activation_operations import ReLU, Softmax\n",
    "from loss_operations import CrossEntropyLoss\n",
    "\n",
    "dense_layer_1 = DenseLayer(input_size=784, output_size=128)\n",
    "dense_layer_2 = DenseLayer(input_size=128, output_size=10)\n",
    "\n",
    "softmax = Softmax()\n",
    "relu = ReLU()\n",
    "\n",
    "loss = CrossEntropyLoss()\n",
    "\n",
    "# forward pass\n",
    "z1 = dense_layer_1.forward(demo_input)\n",
    "a1 = relu.forward(dense_layer_1.output)\n",
    "z2 = dense_layer_2.forward(a1)\n",
    "a2 = softmax.forward(dense_layer_2.output)\n",
    "\n",
    "print(f'Shape of a2: {a2.data.shape}')\n",
    "print(f'Shape of demo_output: {demo_output.data.shape}')\n",
    "print(f'Prediction: {np.argmax(a2.data)}')\n",
    "print(f'Actual: {np.argmax(demo_output.data)}')\n",
    "\n",
    "# calculate the loss\n",
    "loss_value = loss.forward(a2, demo_output)\n",
    "print(f'Loss shape = {loss_value.data.shape}')\n",
    "print(f'Loss: {loss_value.data}')"
   ]
  },
  {
   "cell_type": "code",
   "execution_count": 26,
   "metadata": {},
   "outputs": [
    {
     "name": "stdout",
     "output_type": "stream",
     "text": [
      "Gradient of loss w.r.t predicted values: [[-0.e+00 -0.e+00 -1.e+14 -0.e+00 -0.e+00 -0.e+00 -0.e+00 -0.e+00 -0.e+00\n",
      "  -0.e+00]]\n",
      "Gradient of loss w.r.t predicted values shape: (1, 10)\n",
      "Gradient of loss w.r.t true values: [[3.45387764e+00 3.07986969e-13 3.45387764e+00 3.45387569e+00\n",
      "  3.45387764e+00 2.65055102e+00 3.45366373e+00 3.45387764e+00\n",
      "  3.45387764e+00 3.45387764e+00]]\n",
      "Gradient of loss w.r.t true values shape: (1, 10)\n",
      "Gradient of loss w.r.t a2 shape: (1, 10)\n",
      "Gradient of loss w.r.t z2 shape: (1, 128)\n",
      "Gradient of loss w.r.t a1 shape: (1, 128)\n",
      "Gradient of loss w.r.t z1 shape: (1, 784)\n",
      "Gradients calculated!\n",
      "Weights updated!\n"
     ]
    }
   ],
   "source": [
    "# backward pass\n",
    "upstream_grad = np.ones_like(loss_value.data)\n",
    "dy_pred, dy_true = loss.backward(upstream_grad)\n",
    "\n",
    "print(f'Gradient of loss w.r.t predicted values: {dy_pred}')\n",
    "print(f'Gradient of loss w.r.t predicted values shape: {dy_pred.shape}')\n",
    "print(f'Gradient of loss w.r.t true values: {dy_true}')\n",
    "print(f'Gradient of loss w.r.t true values shape: {dy_true.shape}')\n",
    "\n",
    "# dy_pred is the gradient of the loss w.r.t the predicted values; dy_true is not needed\n",
    "da2 = softmax.backward(dy_pred)\n",
    "\n",
    "print(f'Gradient of loss w.r.t a2 shape: {da2.shape}')\n",
    "\"\"\"\n",
    "def backward(self, upstream_grad):\n",
    "        \n",
    "        grad_biases, grad_linear_output = self.add_op.backward(upstream_grad)\n",
    "        input_grad, grad_weights = self.multiply_op.backward(grad_linear_output)\n",
    "\n",
    "        return input_grad, grad_weights, grad_biases\n",
    "\"\"\"\n",
    "dz2, dw2, db2 = dense_layer_2.backward(da2)\n",
    "print(f'Gradient of loss w.r.t z2 shape: {dz2.shape}')\n",
    "\n",
    "da1 = relu.backward(dz2)\n",
    "print(f'Gradient of loss w.r.t a1 shape: {da1.shape}')\n",
    "dz1, dw1, db1 = dense_layer_1.backward(da1)\n",
    "print(f'Gradient of loss w.r.t z1 shape: {dz1.shape}')\n",
    "\n",
    "print('Gradients calculated!')\n",
    "\n",
    "\n",
    "# update the weights\n",
    "learning_rate = 0.001\n",
    "dense_layer_1.update_parameters(learning_rate)\n",
    "dense_layer_2.update_parameters(learning_rate)\n",
    "print('Weights updated!')\n"
   ]
  },
  {
   "cell_type": "code",
   "execution_count": 27,
   "metadata": {},
   "outputs": [],
   "source": [
    "def forward_pass(input_data, network):\n",
    "    temp_output = input_data\n",
    "    for layer in network:\n",
    "        temp_output = layer.forward(temp_output)\n",
    "\n",
    "    output = temp_output\n",
    "    return output\n",
    "\n",
    "def backward_pass(predicted_output, true_output, network, loss_operation):\n",
    "    loss_value = loss_operation.forward(predicted_output, true_output)\n",
    "    upstream_grad = np.ones_like(loss_value.data)\n",
    "    dy_pred, dy_true = loss_operation.backward(upstream_grad)\n",
    "\n",
    "    temp_grad = dy_pred\n",
    "    for layer in reversed(network):\n",
    "        gradients = layer.backward(temp_grad)\n",
    "        \n",
    "        if isinstance(gradients, tuple):\n",
    "            temp_grad = gradients[0]\n",
    "        else:\n",
    "            temp_grad = gradients\n",
    "\n",
    "    return loss_value"
   ]
  },
  {
   "cell_type": "code",
   "execution_count": 28,
   "metadata": {},
   "outputs": [
    {
     "name": "stdout",
     "output_type": "stream",
     "text": [
      "Prediction: 1\n",
      "Actual: 2\n",
      "Loss: 3.4538776394910684\n"
     ]
    }
   ],
   "source": [
    "network = [dense_layer_1, relu, dense_layer_2, softmax]\n",
    "loss_operation = CrossEntropyLoss()\n",
    "\n",
    "predicted_output = forward_pass(demo_input, network)\n",
    "print(f'Prediction: {np.argmax(predicted_output.data)}')\n",
    "print(f'Actual: {np.argmax(demo_output.data)}')\n",
    "\n",
    "loss_value = backward_pass(predicted_output, demo_output, network, loss_operation)\n",
    "print(f'Loss: {loss_value.data}')\n",
    "\n",
    "dense_layer_1.update_parameters(learning_rate)\n",
    "dense_layer_2.update_parameters(learning_rate)"
   ]
  },
  {
   "cell_type": "code",
   "execution_count": 29,
   "metadata": {},
   "outputs": [],
   "source": [
    "from tqdm import tqdm\n",
    "\n",
    "def train_network(network, X_train, y_train, loss_operation=CrossEntropyLoss(), epochs=5, learning_rate=1e-2, batch_size=32):\n",
    "    num_samples = X_train.shape[0]\n",
    "    num_batches = num_samples // batch_size\n",
    "\n",
    "    for epoch in range(epochs):\n",
    "        epoch_loss = 0.\n",
    "\n",
    "        with tqdm(total=num_batches, desc=f'Epoch {epoch+1}/{epochs}', unit='batch') as pbar:\n",
    "            for i in range(num_batches):\n",
    "                batch_X = X_train[i*batch_size:(i+1)*batch_size]\n",
    "                batch_y = y_train[i*batch_size:(i+1)*batch_size]\n",
    "                \n",
    "                # do the forward and backward pass for each sample in the batch\n",
    "                # note that the weights aren't update after each sample, but the gradients are accumulated\n",
    "                for j in range(len(batch_X)):\n",
    "                    input_data = Node(data=batch_X[j].reshape(1, 784), trainable=False)\n",
    "                    true_output = Node(data=batch_y[j].reshape(1, 10), trainable=False)\n",
    "\n",
    "                    predicted_output = forward_pass(input_data, network)\n",
    "                    loss_value = backward_pass(predicted_output, true_output, network, loss_operation)\n",
    "\n",
    "                    epoch_loss += loss_value.data\n",
    "\n",
    "                # update the weights after each batch\n",
    "                for layer in network:\n",
    "                    if hasattr(layer, 'update_parameters') and callable(layer.update_parameters):\n",
    "                        layer.update_parameters(learning_rate)\n",
    "\n",
    "                pbar.update(1)\n",
    "\n",
    "            print(f'Epoch {epoch+1}/{epochs} - Loss: {epoch_loss/num_samples}')\n",
    "\n",
    "            "
   ]
  },
  {
   "cell_type": "code",
   "execution_count": 30,
   "metadata": {},
   "outputs": [
    {
     "name": "stderr",
     "output_type": "stream",
     "text": [
      "Epoch 1/20: 100%|██████████| 1875/1875 [00:17<00:00, 109.20batch/s]\n"
     ]
    },
    {
     "name": "stdout",
     "output_type": "stream",
     "text": [
      "Epoch 1/20 - Loss: 2.5378238742755244\n"
     ]
    },
    {
     "name": "stderr",
     "output_type": "stream",
     "text": [
      "Epoch 2/20: 100%|██████████| 1875/1875 [00:17<00:00, 107.44batch/s]\n"
     ]
    },
    {
     "name": "stdout",
     "output_type": "stream",
     "text": [
      "Epoch 2/20 - Loss: 1.9915558928254926\n"
     ]
    },
    {
     "name": "stderr",
     "output_type": "stream",
     "text": [
      "Epoch 3/20: 100%|██████████| 1875/1875 [00:18<00:00, 103.71batch/s]\n"
     ]
    },
    {
     "name": "stdout",
     "output_type": "stream",
     "text": [
      "Epoch 3/20 - Loss: 1.608624230336387\n"
     ]
    },
    {
     "name": "stderr",
     "output_type": "stream",
     "text": [
      "Epoch 4/20: 100%|██████████| 1875/1875 [00:17<00:00, 104.50batch/s]\n"
     ]
    },
    {
     "name": "stdout",
     "output_type": "stream",
     "text": [
      "Epoch 4/20 - Loss: 1.3572941117552435\n"
     ]
    },
    {
     "name": "stderr",
     "output_type": "stream",
     "text": [
      "Epoch 5/20: 100%|██████████| 1875/1875 [00:18<00:00, 100.89batch/s]\n"
     ]
    },
    {
     "name": "stdout",
     "output_type": "stream",
     "text": [
      "Epoch 5/20 - Loss: 1.0446516337183316\n"
     ]
    },
    {
     "name": "stderr",
     "output_type": "stream",
     "text": [
      "Epoch 6/20: 100%|██████████| 1875/1875 [00:17<00:00, 106.51batch/s]\n"
     ]
    },
    {
     "name": "stdout",
     "output_type": "stream",
     "text": [
      "Epoch 6/20 - Loss: 0.8705952929424176\n"
     ]
    },
    {
     "name": "stderr",
     "output_type": "stream",
     "text": [
      "Epoch 7/20: 100%|██████████| 1875/1875 [00:17<00:00, 107.44batch/s]\n"
     ]
    },
    {
     "name": "stdout",
     "output_type": "stream",
     "text": [
      "Epoch 7/20 - Loss: 0.6667650055292244\n"
     ]
    },
    {
     "name": "stderr",
     "output_type": "stream",
     "text": [
      "Epoch 8/20: 100%|██████████| 1875/1875 [00:17<00:00, 105.01batch/s]\n"
     ]
    },
    {
     "name": "stdout",
     "output_type": "stream",
     "text": [
      "Epoch 8/20 - Loss: 0.609728891626591\n"
     ]
    },
    {
     "name": "stderr",
     "output_type": "stream",
     "text": [
      "Epoch 9/20: 100%|██████████| 1875/1875 [00:17<00:00, 107.09batch/s]\n"
     ]
    },
    {
     "name": "stdout",
     "output_type": "stream",
     "text": [
      "Epoch 9/20 - Loss: 0.5801200838135894\n"
     ]
    },
    {
     "name": "stderr",
     "output_type": "stream",
     "text": [
      "Epoch 10/20: 100%|██████████| 1875/1875 [00:17<00:00, 109.19batch/s]\n"
     ]
    },
    {
     "name": "stdout",
     "output_type": "stream",
     "text": [
      "Epoch 10/20 - Loss: 0.5111696929947739\n"
     ]
    },
    {
     "name": "stderr",
     "output_type": "stream",
     "text": [
      "Epoch 11/20: 100%|██████████| 1875/1875 [00:17<00:00, 106.11batch/s]\n"
     ]
    },
    {
     "name": "stdout",
     "output_type": "stream",
     "text": [
      "Epoch 11/20 - Loss: 0.28036060149647973\n"
     ]
    },
    {
     "name": "stderr",
     "output_type": "stream",
     "text": [
      "Epoch 12/20: 100%|██████████| 1875/1875 [00:41<00:00, 44.83batch/s]\n"
     ]
    },
    {
     "name": "stdout",
     "output_type": "stream",
     "text": [
      "Epoch 12/20 - Loss: 0.23580831899565144\n"
     ]
    },
    {
     "name": "stderr",
     "output_type": "stream",
     "text": [
      "Epoch 13/20: 100%|██████████| 1875/1875 [01:01<00:00, 30.30batch/s]\n"
     ]
    },
    {
     "name": "stdout",
     "output_type": "stream",
     "text": [
      "Epoch 13/20 - Loss: 0.216028427941762\n"
     ]
    },
    {
     "name": "stderr",
     "output_type": "stream",
     "text": [
      "Epoch 14/20: 100%|██████████| 1875/1875 [01:02<00:00, 30.05batch/s]\n"
     ]
    },
    {
     "name": "stdout",
     "output_type": "stream",
     "text": [
      "Epoch 14/20 - Loss: 0.20281146837399291\n"
     ]
    },
    {
     "name": "stderr",
     "output_type": "stream",
     "text": [
      "Epoch 15/20: 100%|██████████| 1875/1875 [01:02<00:00, 29.91batch/s]\n"
     ]
    },
    {
     "name": "stdout",
     "output_type": "stream",
     "text": [
      "Epoch 15/20 - Loss: 0.19282871979911412\n"
     ]
    },
    {
     "name": "stderr",
     "output_type": "stream",
     "text": [
      "Epoch 16/20: 100%|██████████| 1875/1875 [01:02<00:00, 29.98batch/s]\n"
     ]
    },
    {
     "name": "stdout",
     "output_type": "stream",
     "text": [
      "Epoch 16/20 - Loss: 0.18454889797236876\n"
     ]
    },
    {
     "name": "stderr",
     "output_type": "stream",
     "text": [
      "Epoch 17/20: 100%|██████████| 1875/1875 [01:02<00:00, 30.20batch/s]\n"
     ]
    },
    {
     "name": "stdout",
     "output_type": "stream",
     "text": [
      "Epoch 17/20 - Loss: 0.1773264262429036\n"
     ]
    },
    {
     "name": "stderr",
     "output_type": "stream",
     "text": [
      "Epoch 18/20: 100%|██████████| 1875/1875 [01:03<00:00, 29.70batch/s]\n"
     ]
    },
    {
     "name": "stdout",
     "output_type": "stream",
     "text": [
      "Epoch 18/20 - Loss: 0.17084325338704173\n"
     ]
    },
    {
     "name": "stderr",
     "output_type": "stream",
     "text": [
      "Epoch 19/20: 100%|██████████| 1875/1875 [01:04<00:00, 29.14batch/s]\n"
     ]
    },
    {
     "name": "stdout",
     "output_type": "stream",
     "text": [
      "Epoch 19/20 - Loss: 0.1648325399718855\n"
     ]
    },
    {
     "name": "stderr",
     "output_type": "stream",
     "text": [
      "Epoch 20/20: 100%|██████████| 1875/1875 [01:00<00:00, 31.19batch/s]"
     ]
    },
    {
     "name": "stdout",
     "output_type": "stream",
     "text": [
      "Epoch 20/20 - Loss: 0.15917058825494712\n"
     ]
    },
    {
     "name": "stderr",
     "output_type": "stream",
     "text": [
      "\n"
     ]
    }
   ],
   "source": [
    "train_network(network, X_train, y_train_one_hot, epochs=20, learning_rate=1e-3, batch_size=32)"
   ]
  },
  {
   "cell_type": "code",
   "execution_count": 31,
   "metadata": {},
   "outputs": [],
   "source": [
    "def test_network(network, X_test, y_test, loss_operation=CrossEntropyLoss()):\n",
    "    num_samples = X_test.shape[0]\n",
    "    correct_predictions = 0\n",
    "    total_loss = 0\n",
    "\n",
    "    for i in range(num_samples):\n",
    "        input_data = Node(data=X_test[i].reshape(1, 784), trainable=False)\n",
    "        true_output = Node(data=y_test[i].reshape(1, 10), trainable=False)\n",
    "\n",
    "        predicted_output = forward_pass(input_data, network)\n",
    "\n",
    "        loss_value = loss_operation.forward(predicted_output, true_output)\n",
    "        total_loss += loss_value.data\n",
    "\n",
    "        predicted_label = np.argmax(predicted_output.data)\n",
    "        true_label = np.argmax(true_output.data)\n",
    "\n",
    "        if predicted_label == true_label:\n",
    "            correct_predictions += 1\n",
    "\n",
    "    accuracy = correct_predictions / num_samples\n",
    "    average_loss = total_loss / num_samples\n",
    "\n",
    "    print(f'Accuracy: {accuracy:.4f}')\n",
    "    print(f'Average Loss: {average_loss:.4f}')\n",
    "    return accuracy, average_loss"
   ]
  },
  {
   "cell_type": "code",
   "execution_count": 32,
   "metadata": {},
   "outputs": [
    {
     "name": "stdout",
     "output_type": "stream",
     "text": [
      "Accuracy: 0.9059\n",
      "Average Loss: 0.1665\n"
     ]
    },
    {
     "data": {
      "text/plain": [
       "(0.9059, np.float64(0.1664765652587152))"
      ]
     },
     "execution_count": 32,
     "metadata": {},
     "output_type": "execute_result"
    }
   ],
   "source": [
    "test_network(network, X_test, y_test_one_hot)"
   ]
  },
  {
   "cell_type": "code",
   "execution_count": 34,
   "metadata": {},
   "outputs": [
    {
     "data": {
      "image/png": "[encoded data removed]",
      "text/plain": [
       "<Figure size 640x480 with 1 Axes>"
      ]
     },
     "metadata": {},
     "output_type": "display_data"
    }
   ],
   "source": [
    "demo_index = 25\n",
    "demo_data = X_test[demo_index].reshape(1, 784)\n",
    "demo_label = y_test_one_hot[demo_index].reshape(1, 10)\n",
    "\n",
    "demo_input = Node(data=demo_data, trainable=False)\n",
    "demo_output = Node(data=demo_label, trainable=False)\n",
    "\n",
    "predicted_output = forward_pass(demo_input, network)\n",
    "predicted_label = np.argmax(predicted_output.data)\n",
    "true_label = np.argmax(demo_output.data)\n",
    "\n",
    "plt.imshow(demo_data.reshape(28, 28), cmap='gray')\n",
    "plt.title(f'Predicted: {predicted_label}, True: {true_label}')\n",
    "plt.show()"
   ]
  },
  {
   "cell_type": "code",
   "execution_count": 51,
   "metadata": {},
   "outputs": [
    {
     "name": "stdout",
     "output_type": "stream",
     "text": [
      "Predicted: 7, Actual: 7\n",
      "Predicted: 2, Actual: 2\n",
      "Predicted: 1, Actual: 1\n",
      "Predicted: 0, Actual: 0\n",
      "Predicted: 4, Actual: 4\n",
      "Predicted: 1, Actual: 1\n",
      "Predicted: 4, Actual: 4\n",
      "Predicted: 9, Actual: 9\n",
      "Predicted: 6, Actual: 5\n",
      "Predicted: 9, Actual: 9\n",
      "[np.int64(7), np.int64(2), np.int64(1), np.int64(0), np.int64(4), np.int64(1), np.int64(4), np.int64(9), np.int64(6), np.int64(9)]\n",
      "[7 2 1 0 4 1 4 9 5 9]\n"
     ]
    }
   ],
   "source": [
    "def make_predictions(network, X_test):\n",
    "    predictions = []\n",
    "\n",
    "    for i in range(X_test.shape[0]):\n",
    "        input_data = Node(data=X_test[i].reshape(1, 784), trainable=False)\n",
    "        predicted_output = forward_pass(input_data, network)\n",
    "        predicted_label = np.argmax(predicted_output.data)\n",
    "        predictions.append(predicted_label)\n",
    "\n",
    "        if i < 10:\n",
    "            print(f'Predicted: {predicted_label}, Actual: {np.argmax(y_test_one_hot[i])}')\n",
    "\n",
    "    return predictions\n",
    "\n",
    "y_pred = make_predictions(network, X_test)\n",
    "y_true = np.argmax(y_test_one_hot, axis=1)\n",
    "\n",
    "print(y_pred[:10])\n",
    "print(y_true[:10])"
   ]
  },
  {
   "cell_type": "code",
   "execution_count": 52,
   "metadata": {},
   "outputs": [],
   "source": [
    "from collections import defaultdict\n",
    "\n",
    "def calculate_metrics(y_true, y_pred):\n",
    "    true_positives = defaultdict(int)\n",
    "    false_positives = defaultdict(int)\n",
    "    false_negatives = defaultdict(int)\n",
    "\n",
    "    for true, pred in zip(y_true, y_pred):\n",
    "        if true == pred:\n",
    "            true_positives[true] += 1\n",
    "        else:\n",
    "            false_positives[pred] += 1\n",
    "            false_negatives[true] += 1\n",
    "\n",
    "    precision, recall, f1_score = dict(), dict(), dict()\n",
    "\n",
    "    for class_label in set(y_true):\n",
    "        tp = true_positives[class_label]\n",
    "        fp = false_positives[class_label]\n",
    "        fn = false_negatives[class_label]\n",
    "\n",
    "        precision[class_label] = tp / (tp + fp) if (tp + fp) > 0 else 0\n",
    "        recall[class_label] = tp / (tp + fn) if (tp + fn) > 0 else 0\n",
    "        f1_score[class_label] = (\n",
    "            2 * precision[class_label] * recall[class_label] / (precision[class_label] + recall[class_label])\n",
    "            if (precision[class_label] + recall[class_label]) > 0\n",
    "            else 0\n",
    "        )\n",
    "\n",
    "    accuracy = sum(true_positives.values()) / len(y_true)\n",
    "    avg_precision = sum(precision.values()) / len(precision)\n",
    "    avg_recall = sum(recall.values()) / len(recall)\n",
    "    avg_f1_score = sum(f1_score.values()) / len(f1_score)\n",
    "\n",
    "    return accuracy, precision, recall, f1_score, avg_precision, avg_recall, avg_f1_score"
   ]
  },
  {
   "cell_type": "code",
   "execution_count": 53,
   "metadata": {},
   "outputs": [],
   "source": [
    "accuracy, precision, recall, f1_score, avg_precision, avg_recall, avg_f1_score = calculate_metrics(y_true, y_pred)"
   ]
  },
  {
   "cell_type": "code",
   "execution_count": 54,
   "metadata": {},
   "outputs": [
    {
     "name": "stdout",
     "output_type": "stream",
     "text": [
      "Accuracy: 0.9059\n",
      "Average Precision: 0.9047\n",
      "Average Recall: 0.9047\n",
      "Average F1-Score: 0.9046\n"
     ]
    }
   ],
   "source": [
    "print(f'Accuracy: {accuracy:.4f}')\n",
    "print(f'Average Precision: {avg_precision:.4f}')\n",
    "print(f'Average Recall: {avg_recall:.4f}')\n",
    "print(f'Average F1-Score: {avg_f1_score:.4f}')"
   ]
  },
  {
   "cell_type": "code",
   "execution_count": 64,
   "metadata": {},
   "outputs": [
    {
     "data": {
      "image/png": "[encoded data removed]",
      "text/plain": [
       "<Figure size 1000x1000 with 25 Axes>"
      ]
     },
     "metadata": {},
     "output_type": "display_data"
    }
   ],
   "source": [
    "def plot_sample_predictions(y_true, y_pred, X_test, num_rows=5, num_cols=5):\n",
    "    plt.figure(figsize=(2*num_cols, 2*num_rows))\n",
    "\n",
    "    for i in range(num_rows*num_cols):\n",
    "        plt.subplot(num_rows, num_cols, i+1)\n",
    "        plt.imshow(X_test[i].reshape(28, 28), cmap='gray')\n",
    "        plt.title(f'Predicted: {y_pred[i]}, Actual: {y_true[i]}', color='black' if y_pred[i] == y_true[i] else 'red')\n",
    "        plt.axis('off')\n",
    "\n",
    "    plt.tight_layout()\n",
    "    plt.show()\n",
    "    \n",
    "plot_sample_predictions(y_true, y_pred, X_test)"
   ]
  },
  {
   "cell_type": "code",
   "execution_count": null,
   "metadata": {},
   "outputs": [],
   "source": []
  }
 ],
 "metadata": {
  "kernelspec": {
   "display_name": "comp_graphs",
   "language": "python",
   "name": "python3"
  },
  "language_info": {
   "codemirror_mode": {
    "name": "ipython",
    "version": 3
   },
   "file_extension": ".py",
   "mimetype": "text/x-python",
   "name": "python",
   "nbconvert_exporter": "python",
   "pygments_lexer": "ipython3",
   "version": "3.11.9"
  }
 },
 "nbformat": 4,
 "nbformat_minor": 2
}
